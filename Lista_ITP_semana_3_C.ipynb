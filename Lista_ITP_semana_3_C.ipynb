{
  "nbformat": 4,
  "nbformat_minor": 0,
  "metadata": {
    "colab": {
      "provenance": [],
      "authorship_tag": "ABX9TyMHPN/S3M+tSEIVB+zDMlFT",
      "include_colab_link": true
    },
    "kernelspec": {
      "name": "python3",
      "display_name": "Python 3"
    },
    "language_info": {
      "name": "python"
    }
  },
  "cells": [
    {
      "cell_type": "markdown",
      "metadata": {
        "id": "view-in-github",
        "colab_type": "text"
      },
      "source": [
        "<a href=\"https://colab.research.google.com/github/marisout0/Maria-Mariana-Souto-ITP-2025-2/blob/main/Lista_ITP_semana_3_C.ipynb\" target=\"_parent\"><img src=\"https://colab.research.google.com/assets/colab-badge.svg\" alt=\"Open In Colab\"/></a>"
      ]
    },
    {
      "cell_type": "markdown",
      "source": [
        "Baixando Compilador em C"
      ],
      "metadata": {
        "id": "mhgWMZizpDql"
      }
    },
    {
      "cell_type": "code",
      "metadata": {
        "colab": {
          "base_uri": "https://localhost:8080/"
        },
        "id": "8a3fdf88",
        "outputId": "ae793ee4-0bed-43f4-ead0-36144fe5d8f0"
      },
      "source": [
        "!apt update\n",
        "!apt install build-essential"
      ],
      "execution_count": null,
      "outputs": [
        {
          "output_type": "stream",
          "name": "stdout",
          "text": [
            "\u001b[33m\r0% [Working]\u001b[0m\r            \rGet:1 https://developer.download.nvidia.com/compute/cuda/repos/ubuntu2204/x86_64  InRelease [1,581 B]\n",
            "\r            \rGet:2 https://cli.github.com/packages stable InRelease [3,917 B]\n",
            "Get:3 https://cloud.r-project.org/bin/linux/ubuntu jammy-cran40/ InRelease [3,632 B]\n",
            "Get:4 http://security.ubuntu.com/ubuntu jammy-security InRelease [129 kB]\n",
            "Hit:5 http://archive.ubuntu.com/ubuntu jammy InRelease\n",
            "Get:6 https://cli.github.com/packages stable/main amd64 Packages [346 B]\n",
            "Get:7 http://archive.ubuntu.com/ubuntu jammy-updates InRelease [128 kB]\n",
            "Get:8 https://r2u.stat.illinois.edu/ubuntu jammy InRelease [6,555 B]\n",
            "Get:9 https://developer.download.nvidia.com/compute/cuda/repos/ubuntu2204/x86_64  Packages [2,006 kB]\n",
            "Get:10 http://archive.ubuntu.com/ubuntu jammy-backports InRelease [127 kB]\n",
            "Hit:11 https://ppa.launchpadcontent.net/deadsnakes/ppa/ubuntu jammy InRelease\n",
            "Hit:12 https://ppa.launchpadcontent.net/graphics-drivers/ppa/ubuntu jammy InRelease\n",
            "Hit:13 https://ppa.launchpadcontent.net/ubuntugis/ppa/ubuntu jammy InRelease\n",
            "Get:14 https://r2u.stat.illinois.edu/ubuntu jammy/main amd64 Packages [2,792 kB]\n",
            "Get:15 http://security.ubuntu.com/ubuntu jammy-security/universe amd64 Packages [1,273 kB]\n",
            "Get:16 http://archive.ubuntu.com/ubuntu jammy-updates/universe amd64 Packages [1,581 kB]\n",
            "Get:17 http://security.ubuntu.com/ubuntu jammy-security/main amd64 Packages [3,310 kB]\n",
            "Get:18 https://r2u.stat.illinois.edu/ubuntu jammy/main all Packages [9,253 kB]\n",
            "Get:19 http://archive.ubuntu.com/ubuntu jammy-updates/main amd64 Packages [3,623 kB]\n",
            "Fetched 24.2 MB in 6s (4,059 kB/s)\n",
            "Reading package lists... Done\n",
            "Building dependency tree... Done\n",
            "Reading state information... Done\n",
            "39 packages can be upgraded. Run 'apt list --upgradable' to see them.\n",
            "\u001b[1;33mW: \u001b[0mSkipping acquire of configured file 'main/source/Sources' as repository 'https://r2u.stat.illinois.edu/ubuntu jammy InRelease' does not seem to provide it (sources.list entry misspelt?)\u001b[0m\n",
            "Reading package lists... Done\n",
            "Building dependency tree... Done\n",
            "Reading state information... Done\n",
            "build-essential is already the newest version (12.9ubuntu3).\n",
            "0 upgraded, 0 newly installed, 0 to remove and 39 not upgraded.\n"
          ]
        }
      ]
    },
    {
      "cell_type": "markdown",
      "source": [
        "Exercício 1 -  Classificação de IMC"
      ],
      "metadata": {
        "id": "KZNCMwnF6KgF"
      }
    },
    {
      "cell_type": "code",
      "metadata": {
        "colab": {
          "base_uri": "https://localhost:8080/"
        },
        "id": "96e17d7e",
        "outputId": "23157c5a-9df7-4896-9a15-3df7aeb69539"
      },
      "source": [
        "%%shell\n",
        "cat <<'EOF' > imc.c\n",
        "#include <stdio.h>\n",
        "#include <math.h>\n",
        "\n",
        "int main() {\n",
        "    float peso, altura, imc;\n",
        "\n",
        "    printf(\"Digite o peso em kg: \");\n",
        "    scanf(\"%f\", &peso);\n",
        "\n",
        "    printf(\"Digite a altura em metros: \");\n",
        "    scanf(\"%f\", &altura);\n",
        "\n",
        "    imc = peso / pow(altura, 2);\n",
        "\n",
        "    // Usa estruturas if/else if para classificar o IMC.\n",
        "    printf(\"O seu IMC e: %.2f\\n\", imc);\n",
        "\n",
        "    if (imc < 18.5) {\n",
        "        printf(\"Classificacao: Abaixo do peso\\n\"); // Abaixo de 18.5\n",
        "    } else if (imc >= 18.5 && imc <= 24.9) {\n",
        "        printf(\"Classificacao: Peso normal\\n\"); // Entre 18.5 e 24.9\n",
        "    } else if (imc >= 25.0 && imc <= 29.9) {\n",
        "        printf(\"Classificacao: Sobrepeso\\n\"); // Entre 25.0 e 29.9\n",
        "    } else { // O problema define essa categoria como \"30.0 ou mais\"\n",
        "        printf(\"Classificacao: Obesidade\\n\");\n",
        "    }\n",
        "\n",
        "    return 0;\n",
        "}\n",
        "EOF\n",
        "\n",
        "gcc imc.c -o imc -lm\n",
        "./imc"
      ],
      "execution_count": 6,
      "outputs": [
        {
          "output_type": "stream",
          "name": "stdout",
          "text": [
            "Digite o peso em kg: 67\n",
            "Digite a altura em metros: 1.65\n",
            "O seu IMC e: 24.61\n",
            "Classificacao: Peso normal\n"
          ]
        },
        {
          "output_type": "execute_result",
          "data": {
            "text/plain": []
          },
          "metadata": {},
          "execution_count": 6
        }
      ]
    },
    {
      "cell_type": "markdown",
      "source": [
        "Exercício 2 - Calculadora de energia elétrica"
      ],
      "metadata": {
        "id": "ChI-fohz7uXw"
      }
    },
    {
      "cell_type": "code",
      "source": [
        "%%shell\n",
        "cat <<'EOF' > energia.c\n",
        "#include <stdio.h>\n",
        "\n",
        "int main() {\n",
        "    float consumo_kwh, valor_total;\n",
        "    char tipo_consumidor;\n",
        "    const float taxa_fixa = 15.00; // Define uma constante para a taxa fixa\n",
        "\n",
        "    printf(\"Digite o consumo em kWh: \");\n",
        "    scanf(\"%f\", &consumo_kwh);\n",
        "\n",
        "    // A leitura de um caractere precisa de um espaço antes do %c\n",
        "    // para limpar o buffer de entrada.\n",
        "    printf(\"Digite o tipo de consumidor (R/C/I): \");\n",
        "    scanf(\" %c\", &tipo_consumidor);\n",
        "\n",
        "    // Usa um switch para selecionar o cálculo com base no tipo de consumidor.\n",
        "    switch (tipo_consumidor) {\n",
        "        case 'R':\n",
        "        case 'r':\n",
        "            valor_total = (consumo_kwh * 0.60) + taxa_fixa; // Residencial\n",
        "            break;\n",
        "        case 'C':\n",
        "        case 'c':\n",
        "            valor_total = (consumo_kwh * 0.48) + taxa_fixa; // Comercial\n",
        "            break;\n",
        "        case 'I':\n",
        "        case 'i':\n",
        "            valor_total = (consumo_kwh * 1.29) + taxa_fixa; // Industrial\n",
        "            break;\n",
        "        default:\n",
        "            printf(\"Tipo de consumidor invalido.\\n\");\n",
        "            return 1; // Retorna um código de erro.\n",
        "    }\n",
        "\n",
        "    printf(\"Valor total da conta: R$ %.2f\\n\", valor_total);\n",
        "\n",
        "    return 0;\n",
        "}\n",
        "EOF\n",
        "\n",
        "gcc energia.c -o energia\n",
        "./energia"
      ],
      "metadata": {
        "colab": {
          "base_uri": "https://localhost:8080/"
        },
        "id": "wYZICkh076C1",
        "outputId": "0863bc24-7c37-47d9-8cd7-522a81c6787e"
      },
      "execution_count": 9,
      "outputs": [
        {
          "output_type": "stream",
          "name": "stdout",
          "text": [
            "Digite o consumo em kWh: 3000\n",
            "Digite o tipo de consumidor (R/C/I): R\n",
            "Valor total da conta: R$ 1815.00\n"
          ]
        },
        {
          "output_type": "execute_result",
          "data": {
            "text/plain": []
          },
          "metadata": {},
          "execution_count": 9
        }
      ]
    },
    {
      "cell_type": "markdown",
      "source": [
        "Exercício 3 - Sistema de notas"
      ],
      "metadata": {
        "id": "qO8MTbfN8Zsi"
      }
    },
    {
      "cell_type": "code",
      "source": [
        "%%shell\n",
        "cat <<'EOF' > notas.c\n",
        "#include <stdio.h>\n",
        "\n",
        "int main() {\n",
        "    float nota1, nota2, nota3, media, nota_final_necessaria;\n",
        "\n",
        "    printf(\"Digite a primeira nota: \");\n",
        "    scanf(\"%f\", &nota1);\n",
        "\n",
        "    printf(\"Digite a segunda nota: \");\n",
        "    scanf(\"%f\", &nota2);\n",
        "\n",
        "    printf(\"Digite a terceira nota: \");\n",
        "    scanf(\"%f\", &nota3);\n",
        "\n",
        "    // Calcula a média aritmética das notas.\n",
        "    media = (nota1 + nota2 + nota3) / 3.0;\n",
        "\n",
        "    printf(\"Media: %.2f\\n\", media);\n",
        "\n",
        "    // Usa if/else if para determinar a situação do aluno.\n",
        "    if (media >= 7.0) {\n",
        "        printf(\"Situacao: Aprovado\\n\"); // Média >= 7.0\n",
        "    } else if (media < 4.0) {\n",
        "        printf(\"Situacao: Reprovado\\n\"); // Média < 4.0\n",
        "    } else { // Se a média estiver entre 4.0 e 7.0\n",
        "        printf(\"Situacao: Em recuperacao\\n\"); // 4.0 <= media < 7.0\n",
        "\n",
        "        // Calcula a nota necessária para a prova final.\n",
        "        // A fórmula é (media + nota_final_necessaria) / 2 = 5.0\n",
        "        // Isolando nota_final_necessaria: nota_final_necessaria = (5.0 * 2) - media\n",
        "        nota_final_necessaria = 10.0 - media;\n",
        "\n",
        "        printf(\"Para ser aprovado na recuperacao, voce precisa de %.2f na prova final.\\n\", nota_final_necessaria);\n",
        "    }\n",
        "\n",
        "    return 0;\n",
        "}\n",
        "EOF\n",
        "\n",
        "gcc notas.c -o notas\n",
        "./notas"
      ],
      "metadata": {
        "colab": {
          "base_uri": "https://localhost:8080/"
        },
        "id": "aZryPmjn8aCY",
        "outputId": "9b776e45-62f8-4bd0-c3a2-0701f57af1a3"
      },
      "execution_count": 11,
      "outputs": [
        {
          "output_type": "stream",
          "name": "stdout",
          "text": [
            "Digite a primeira nota: 6\n",
            "Digite a segunda nota: 7\n",
            "Digite a terceira nota: 8\n",
            "Media: 7.00\n",
            "Situacao: Aprovado\n"
          ]
        },
        {
          "output_type": "execute_result",
          "data": {
            "text/plain": []
          },
          "metadata": {},
          "execution_count": 11
        }
      ]
    },
    {
      "cell_type": "markdown",
      "source": [
        "Exercício 4 - Jogo pedra, papel ou tesoura"
      ],
      "metadata": {
        "id": "DwE2rNzO812y"
      }
    },
    {
      "cell_type": "code",
      "source": [
        "%%shell\n",
        "cat <<'EOF' > jogo.c\n",
        "#include <stdio.h>\n",
        "\n",
        "int main() {\n",
        "    char jogada1, jogada2;\n",
        "\n",
        "    printf(\"Jogador 1, digite sua jogada (P-pedra, A-papel, T-tesoura): \");\n",
        "    scanf(\" %c\", &jogada1);\n",
        "\n",
        "    printf(\"Jogador 2, digite sua jogada (P-pedra, A-papel, T-tesoura): \");\n",
        "    scanf(\" %c\", &jogada2);\n",
        "\n",
        "    // Usa uma série de if/else if para verificar todas as combinações.\n",
        "    // O operador lógico '&&' (e) combina duas condições.\n",
        "    if (jogada1 == jogada2) {\n",
        "        printf(\"Empate!\\n\"); // Jogadas iguais resultam em empate\n",
        "    } else if ((jogada1 == 'P' && jogada2 == 'T') || (jogada1 == 'p' && jogada2 == 't')) {\n",
        "        printf(\"Jogador 1 vence!\\n\"); // Pedra vence Tesoura\n",
        "    } else if ((jogada1 == 'A' && jogada2 == 'P') || (jogada1 == 'a' && jogada2 == 'p')) {\n",
        "        printf(\"Jogador 1 vence!\\n\"); // Papel vence Pedra\n",
        "    } else if ((jogada1 == 'T' && jogada2 == 'A') || (jogada1 == 't' && jogada2 == 'a')) {\n",
        "        printf(\"Jogador 1 vence!\\n\"); // Tesoura vence Papel\n",
        "    } else {\n",
        "        printf(\"Jogador 2 vence!\\n\"); // Se não foi empate e o jogador 1 não venceu, o jogador 2 vence.\n",
        "    }\n",
        "\n",
        "    return 0;\n",
        "}\n",
        "EOF\n",
        "\n",
        "gcc jogo.c -o jogo\n",
        "./jogo"
      ],
      "metadata": {
        "colab": {
          "base_uri": "https://localhost:8080/"
        },
        "id": "l5S2nOAy87IR",
        "outputId": "8718aba5-bf88-446b-ecbb-e953df245713"
      },
      "execution_count": 13,
      "outputs": [
        {
          "output_type": "stream",
          "name": "stdout",
          "text": [
            "Jogador 1, digite sua jogada (P-pedra, A-papel, T-tesoura): P\n",
            "Jogador 2, digite sua jogada (P-pedra, A-papel, T-tesoura): T\n",
            "Jogador 1 vence!\n"
          ]
        },
        {
          "output_type": "execute_result",
          "data": {
            "text/plain": []
          },
          "metadata": {},
          "execution_count": 13
        }
      ]
    }
  ]
}