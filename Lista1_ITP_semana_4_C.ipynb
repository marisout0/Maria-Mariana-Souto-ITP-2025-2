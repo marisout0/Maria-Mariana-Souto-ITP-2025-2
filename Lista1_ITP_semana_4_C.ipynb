{
  "nbformat": 4,
  "nbformat_minor": 0,
  "metadata": {
    "colab": {
      "provenance": [],
      "authorship_tag": "ABX9TyOkY8YIRaRG+cHMSf1JPjH0",
      "include_colab_link": true
    },
    "kernelspec": {
      "name": "python3",
      "display_name": "Python 3"
    },
    "language_info": {
      "name": "python"
    }
  },
  "cells": [
    {
      "cell_type": "markdown",
      "metadata": {
        "id": "view-in-github",
        "colab_type": "text"
      },
      "source": [
        "<a href=\"https://colab.research.google.com/github/marisout0/Maria-Mariana-Souto-ITP-2025-2/blob/main/Lista1_ITP_semana_4_C.ipynb\" target=\"_parent\"><img src=\"https://colab.research.google.com/assets/colab-badge.svg\" alt=\"Open In Colab\"/></a>"
      ]
    },
    {
      "cell_type": "markdown",
      "source": [
        "Baixando Compilador em C"
      ],
      "metadata": {
        "id": "mhgWMZizpDql"
      }
    },
    {
      "cell_type": "code",
      "metadata": {
        "colab": {
          "base_uri": "https://localhost:8080/"
        },
        "id": "8a3fdf88",
        "outputId": "b10ff76f-03f5-45b1-98ed-f6d302167e92"
      },
      "source": [
        "!apt update\n",
        "!apt install build-essential"
      ],
      "execution_count": 1,
      "outputs": [
        {
          "output_type": "stream",
          "name": "stdout",
          "text": [
            "Get:1 https://developer.download.nvidia.com/compute/cuda/repos/ubuntu2204/x86_64  InRelease [1,581 B]\n",
            "Get:2 https://cli.github.com/packages stable InRelease [3,917 B]\n",
            "Get:3 https://cloud.r-project.org/bin/linux/ubuntu jammy-cran40/ InRelease [3,632 B]\n",
            "Get:4 http://security.ubuntu.com/ubuntu jammy-security InRelease [129 kB]\n",
            "Hit:5 http://archive.ubuntu.com/ubuntu jammy InRelease\n",
            "Get:6 https://r2u.stat.illinois.edu/ubuntu jammy InRelease [6,555 B]\n",
            "Get:7 http://archive.ubuntu.com/ubuntu jammy-updates InRelease [128 kB]\n",
            "Get:8 https://developer.download.nvidia.com/compute/cuda/repos/ubuntu2204/x86_64  Packages [2,006 kB]\n",
            "Get:9 http://archive.ubuntu.com/ubuntu jammy-backports InRelease [127 kB]\n",
            "Hit:10 https://ppa.launchpadcontent.net/deadsnakes/ppa/ubuntu jammy InRelease\n",
            "Hit:11 https://ppa.launchpadcontent.net/graphics-drivers/ppa/ubuntu jammy InRelease\n",
            "Hit:12 https://ppa.launchpadcontent.net/ubuntugis/ppa/ubuntu jammy InRelease\n",
            "Get:13 https://cli.github.com/packages stable/main amd64 Packages [346 B]\n",
            "Get:14 https://r2u.stat.illinois.edu/ubuntu jammy/main amd64 Packages [2,795 kB]\n",
            "Get:15 https://r2u.stat.illinois.edu/ubuntu jammy/main all Packages [9,266 kB]\n",
            "Get:16 http://security.ubuntu.com/ubuntu jammy-security/main amd64 Packages [3,310 kB]\n",
            "Get:17 http://security.ubuntu.com/ubuntu jammy-security/universe amd64 Packages [1,273 kB]\n",
            "Get:18 http://archive.ubuntu.com/ubuntu jammy-updates/multiverse amd64 Packages [88.8 kB]\n",
            "Get:19 http://archive.ubuntu.com/ubuntu jammy-updates/universe amd64 Packages [1,581 kB]\n",
            "Get:20 http://archive.ubuntu.com/ubuntu jammy-updates/restricted amd64 Packages [5,627 kB]\n",
            "Get:21 http://archive.ubuntu.com/ubuntu jammy-updates/main amd64 Packages [3,623 kB]\n",
            "Fetched 30.0 MB in 6s (5,152 kB/s)\n",
            "Reading package lists... Done\n",
            "Building dependency tree... Done\n",
            "Reading state information... Done\n",
            "45 packages can be upgraded. Run 'apt list --upgradable' to see them.\n",
            "\u001b[1;33mW: \u001b[0mSkipping acquire of configured file 'main/source/Sources' as repository 'https://r2u.stat.illinois.edu/ubuntu jammy InRelease' does not seem to provide it (sources.list entry misspelt?)\u001b[0m\n",
            "Reading package lists... Done\n",
            "Building dependency tree... Done\n",
            "Reading state information... Done\n",
            "build-essential is already the newest version (12.9ubuntu3).\n",
            "0 upgraded, 0 newly installed, 0 to remove and 45 not upgraded.\n"
          ]
        }
      ]
    },
    {
      "cell_type": "markdown",
      "source": [
        "Exercício 1 -  quantas vezes uma folha precisa ser dobrada para caber em um bolso"
      ],
      "metadata": {
        "id": "KZNCMwnF6KgF"
      }
    },
    {
      "cell_type": "code",
      "metadata": {
        "colab": {
          "base_uri": "https://localhost:8080/"
        },
        "id": "27e86592",
        "outputId": "317e83aa-a2cc-416a-aad4-ca26c4e94bdb"
      },
      "source": [
        "%%shell\n",
        "cat <<EOF > fold_paper.c\n",
        "#include <stdio.h>\n",
        "\n",
        "int main() {\n",
        "    float comprimento_folha, largura_folha, comprimento_bolso;\n",
        "    int numero_dobras = 0;\n",
        "\n",
        "    printf(\"Digite o comprimento da folha: \");\n",
        "    scanf(\"%f\", &comprimento_folha);\n",
        "\n",
        "    printf(\"Digite a largura da folha: \");\n",
        "    scanf(\"%f\", &largura_folha);\n",
        "\n",
        "    printf(\"Digite o comprimento do bolso: \");\n",
        "    scanf(\"%f\", &comprimento_bolso);\n",
        "\n",
        "    // O loop continua enquanto nenhum dos lados da folha couber no bolso.\n",
        "    while (comprimento_folha > comprimento_bolso && largura_folha > comprimento_bolso) {\n",
        "        // Verifica qual é o maior lado para dobrar.\n",
        "        if (comprimento_folha > largura_folha) {\n",
        "            comprimento_folha /= 2.0;\n",
        "        } else {\n",
        "            largura_folha /= 2.0;\n",
        "        }\n",
        "        // Incrementa o contador de dobras.\n",
        "        numero_dobras++;\n",
        "    }\n",
        "\n",
        "    printf(\"Numero de dobras necessarias: %d\\n\", numero_dobras);\n",
        "\n",
        "    return 0;\n",
        "}\n",
        "EOF\n",
        "\n",
        "gcc fold_paper.c -o fold_paper\n",
        "./fold_paper"
      ],
      "execution_count": 2,
      "outputs": [
        {
          "output_type": "stream",
          "name": "stdout",
          "text": [
            "Digite o comprimento da folha: 80\n",
            "Digite a largura da folha: 80\n",
            "Digite o comprimento do bolso: 20\n",
            "Numero de dobras necessarias: 3\n"
          ]
        },
        {
          "output_type": "execute_result",
          "data": {
            "text/plain": []
          },
          "metadata": {},
          "execution_count": 2
        }
      ]
    },
    {
      "cell_type": "markdown",
      "source": [
        "Exercício 3 - Homem aranha"
      ],
      "metadata": {
        "id": "A1ynb8OB-1jU"
      }
    },
    {
      "cell_type": "code",
      "metadata": {
        "colab": {
          "base_uri": "https://localhost:8080/"
        },
        "id": "5d9db0b9",
        "outputId": "3d885e48-f16c-4d3b-defd-ab753f0868db"
      },
      "source": [
        "%%shell\n",
        "cat spider_man_exercise3.c"
      ],
      "execution_count": 25,
      "outputs": [
        {
          "output_type": "stream",
          "name": "stdout",
          "text": [
            "#include <stdio.h>\n",
            "#include <math.h>\n",
            "\n",
            "int main() {\n",
            "    float x_aranha, y_aranha, comp_max_teia;\n",
            "    int n, i;\n",
            "    float x_alvo, y_alvo, distancia_euclidiana;\n",
            "\n",
            "    //printf(\"Digite a coordenada inicial do Homem Aranha (x y): \"); // Removido\n",
            "    scanf(\"%f %f\", &x_aranha, &y_aranha);\n",
            "\n",
            "    //printf(\"Digite o comprimento maximo da teia: \"); // Removido\n",
            "    scanf(\"%f\", &comp_max_teia);\n",
            "\n",
            "    //printf(\"Digite a quantidade de alvos: \"); // Removido\n",
            "    scanf(\"%d\", &n);\n",
            "\n",
            "    // Loop para processar cada um dos 'n' alvos.\n",
            "    for (i = 0; i < n; i++) {\n",
            "        //printf(\"Digite a coordenada do alvo %d (x y): \", i + 1); // Removido\n",
            "        scanf(\"%f %f\", &x_alvo, &y_alvo);\n",
            "\n",
            "        // Calcula a distância euclidiana entre a posição atual do Homem-Aranha e o alvo.\n",
            "        distancia_euclidiana = sqrt(pow(x_alvo - x_aranha, 2) + pow(y_alvo - y_aranha, 2));\n",
            "\n",
            "        // Verifica se a teia alcança o alvo.\n",
            "        if (distancia_euclidiana > comp_max_teia) {\n",
            "            // Se a teia for curta, o Homem-Aranha falha.\n",
            "            printf(\"N\\n\");\n",
            "            return 0; // Encerra o programa.\n",
            "        }\n",
            "\n",
            "        // Se a teia alcançou, a nova coordenada do Homem-Aranha é atualizada para a posição do alvo\n",
            "        x_aranha = x_alvo;\n",
            "        y_aranha = y_alvo;\n",
            "    }\n",
            "\n",
            "    // Se o loop terminou, ele conseguiu usar todos os alvos.\n",
            "    printf(\"S\\n\");\n",
            "\n",
            "    return 0;\n",
            "}\n"
          ]
        },
        {
          "output_type": "execute_result",
          "data": {
            "text/plain": []
          },
          "metadata": {},
          "execution_count": 25
        }
      ]
    },
    {
      "cell_type": "code",
      "metadata": {
        "colab": {
          "base_uri": "https://localhost:8080/"
        },
        "id": "f682121d",
        "outputId": "fadd2d26-8f61-4f84-9e81-2a60f67a16d0"
      },
      "source": [
        "%%shell\n",
        "\n",
        "# Usa comandos shell para coletar as entradas manualmente\n",
        "echo \"Digite a coordenada inicial do Homem Aranha (x y):\"\n",
        "read x_aranha y_aranha\n",
        "\n",
        "echo \"Digite o comprimento maximo da teia:\"\n",
        "read comp_max_teia\n",
        "\n",
        "echo \"Digite a quantidade de alvos:\"\n",
        "read n_alvos\n",
        "\n",
        "# Constrói a string de entrada para passar para o programa C\n",
        "input_string=\"$x_aranha $y_aranha\\n$comp_max_teia\\n$n_alvos\\n\"\n",
        "\n",
        "# Loop para coletar as coordenadas dos alvos\n",
        "for (( i=1; i<=n_alvos; i++ )); do\n",
        "    echo \"Digite a coordenada do alvo $i (x y):\"\n",
        "    read x_alvo y_alvo\n",
        "    input_string+=\"$x_alvo $y_alvo\\n\"\n",
        "done\n",
        "\n",
        "# Executa o programa C, passando a string de entrada construída\n",
        "bash -c './spider_man_exercise3 <<< \"$input_string\"'"
      ],
      "execution_count": 24,
      "outputs": [
        {
          "output_type": "stream",
          "name": "stdout",
          "text": [
            "Digite a coordenada inicial do Homem Aranha (x y):\n",
            "(1,1)\n",
            "Digite o comprimento maximo da teia:\n",
            "2\n",
            "Digite a quantidade de alvos:\n",
            "2\n",
            "Digite a coordenada do alvo 1 (x y):\n",
            "(7,1)\n",
            "Digite a coordenada do alvo 2 (x y):\n",
            "(1,4)\n",
            "S\n"
          ]
        },
        {
          "output_type": "execute_result",
          "data": {
            "text/plain": []
          },
          "metadata": {},
          "execution_count": 24
        }
      ]
    },
    {
      "cell_type": "markdown",
      "source": [
        "Exercício 4 - números colegas"
      ],
      "metadata": {
        "id": "XVEpbvPhAGy6"
      }
    },
    {
      "cell_type": "code",
      "metadata": {
        "colab": {
          "base_uri": "https://localhost:8080/"
        },
        "id": "5845f718",
        "outputId": "f224454e-e82d-49a4-b675-c564a96bc1d8"
      },
      "source": [
        "%%shell\n",
        "cat <<EOF > colleague_numbers.c\n",
        "#include <stdio.h>\n",
        "#include <stdlib.h> // Para a função abs()\n",
        "\n",
        "// Função para calcular a soma dos divisores próprios de um número\n",
        "int soma_divisores_proprios(int num) {\n",
        "    int soma = 1; // 1 é sempre um divisor próprio\n",
        "    // Loop otimizado: verifica divisores até a raiz quadrada do número.\n",
        "    for (int i = 2; i * i <= num; i++) {\n",
        "        if (num % i == 0) {\n",
        "            soma += i;\n",
        "            // Se i * i não for igual a num, então num/i também é um divisor próprio e diferente de i.\n",
        "            if (i * i != num) {\n",
        "                soma += num / i;\n",
        "            }\n",
        "        }\n",
        "    }\n",
        "    return soma;\n",
        "}\n",
        "\n",
        "int main() {\n",
        "    int a, b;\n",
        "    int soma_div_a, soma_div_b;\n",
        "\n",
        "    printf(\"Digite o primeiro numero inteiro (A): \");\n",
        "    scanf(\"%d\", &a);\n",
        "\n",
        "    printf(\"Digite o segundo numero inteiro (B): \");\n",
        "    scanf(\"%d\", &b);\n",
        "\n",
        "    // Calcula a soma dos divisores próprios de A e B.\n",
        "    soma_div_a = soma_divisores_proprios(a);\n",
        "    soma_div_b = soma_divisores_proprios(b);\n",
        "\n",
        "    // Verifica se os números são colegas.\n",
        "    // A condição é que a diferença absoluta entre a soma dos divisores de um e o outro número seja <= 2.\n",
        "    if (abs(soma_div_a - b) <= 2 && abs(soma_div_b - a) <= 2) {\n",
        "        printf(\"S\\n\");\n",
        "    } else {\n",
        "        printf(\"N\\n\");\n",
        "    }\n",
        "\n",
        "    return 0;\n",
        "}\n",
        "EOF\n",
        "\n",
        "gcc colleague_numbers.c -o colleague_numbers -lm\n",
        "# Execute o programa para inserir os números manualmente\n",
        "./colleague_numbers"
      ],
      "execution_count": 28,
      "outputs": [
        {
          "output_type": "stream",
          "name": "stdout",
          "text": [
            "Digite o primeiro numero inteiro (A): 140\n",
            "Digite o segundo numero inteiro (B): 195\n",
            "S\n"
          ]
        },
        {
          "output_type": "execute_result",
          "data": {
            "text/plain": []
          },
          "metadata": {},
          "execution_count": 28
        }
      ]
    }
  ]
}