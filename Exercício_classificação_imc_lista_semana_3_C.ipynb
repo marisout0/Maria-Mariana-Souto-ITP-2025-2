{
  "nbformat": 4,
  "nbformat_minor": 0,
  "metadata": {
    "colab": {
      "provenance": [],
      "authorship_tag": "ABX9TyMXbsBq4qU040b8iSscdLNj",
      "include_colab_link": true
    },
    "kernelspec": {
      "name": "python3",
      "display_name": "Python 3"
    },
    "language_info": {
      "name": "python"
    }
  },
  "cells": [
    {
      "cell_type": "markdown",
      "metadata": {
        "id": "view-in-github",
        "colab_type": "text"
      },
      "source": [
        "<a href=\"https://colab.research.google.com/github/marisout0/Maria-Mariana-Souto-ITP-2025-2/blob/main/Exerc%C3%ADcio_classifica%C3%A7%C3%A3o_imc_lista_semana_3_C.ipynb\" target=\"_parent\"><img src=\"https://colab.research.google.com/assets/colab-badge.svg\" alt=\"Open In Colab\"/></a>"
      ]
    },
    {
      "cell_type": "code",
      "metadata": {
        "colab": {
          "base_uri": "https://localhost:8080/"
        },
        "id": "8a3fdf88",
        "outputId": "1b3b5c45-fba4-41db-99e4-dff2492a4ac1"
      },
      "source": [
        "!apt update\n",
        "!apt install build-essential"
      ],
      "execution_count": 16,
      "outputs": [
        {
          "output_type": "stream",
          "name": "stdout",
          "text": [
            "\u001b[33m\r0% [Working]\u001b[0m\r            \rHit:1 http://archive.ubuntu.com/ubuntu jammy InRelease\n",
            "\u001b[33m\r0% [Waiting for headers] [Connecting to security.ubuntu.com (185.125.190.39)] [\u001b[0m\r                                                                               \rHit:2 http://archive.ubuntu.com/ubuntu jammy-updates InRelease\n",
            "\u001b[33m\r0% [Connecting to security.ubuntu.com (185.125.190.39)] [Connected to cloud.r-p\u001b[0m\r                                                                               \rHit:3 https://cli.github.com/packages stable InRelease\n",
            "\u001b[33m\r0% [Waiting for headers] [Connecting to security.ubuntu.com (185.125.190.39)] [\u001b[0m\r                                                                               \rHit:4 https://developer.download.nvidia.com/compute/cuda/repos/ubuntu2204/x86_64  InRelease\n",
            "\u001b[33m\r0% [Waiting for headers] [Waiting for headers] [Waiting for headers] [Connected\u001b[0m\r                                                                               \rHit:5 https://cloud.r-project.org/bin/linux/ubuntu jammy-cran40/ InRelease\n",
            "Hit:6 http://archive.ubuntu.com/ubuntu jammy-backports InRelease\n",
            "Hit:7 https://r2u.stat.illinois.edu/ubuntu jammy InRelease\n",
            "Hit:8 http://security.ubuntu.com/ubuntu jammy-security InRelease\n",
            "Hit:9 https://ppa.launchpadcontent.net/deadsnakes/ppa/ubuntu jammy InRelease\n",
            "Hit:10 https://ppa.launchpadcontent.net/graphics-drivers/ppa/ubuntu jammy InRelease\n",
            "Hit:11 https://ppa.launchpadcontent.net/ubuntugis/ppa/ubuntu jammy InRelease\n",
            "Reading package lists... Done\n",
            "Building dependency tree... Done\n",
            "Reading state information... Done\n",
            "43 packages can be upgraded. Run 'apt list --upgradable' to see them.\n",
            "\u001b[1;33mW: \u001b[0mSkipping acquire of configured file 'main/source/Sources' as repository 'https://r2u.stat.illinois.edu/ubuntu jammy InRelease' does not seem to provide it (sources.list entry misspelt?)\u001b[0m\n",
            "Reading package lists... Done\n",
            "Building dependency tree... Done\n",
            "Reading state information... Done\n",
            "build-essential is already the newest version (12.9ubuntu3).\n",
            "0 upgraded, 0 newly installed, 0 to remove and 43 not upgraded.\n"
          ]
        }
      ]
    },
    {
      "cell_type": "code",
      "metadata": {
        "colab": {
          "base_uri": "https://localhost:8080/"
        },
        "id": "96e17d7e",
        "outputId": "4475e17c-ac92-4f32-c7b4-ffb2a0052af5"
      },
      "source": [
        "%%writefile imc.c\n",
        "#include <stdio.h>\n",
        "#include <math.h>\n",
        "\n",
        "int main() {\n",
        "    float peso, altura, imc;\n",
        "\n",
        "    printf(\"Digite o peso em kg: \");\n",
        "    scanf(\"%f\", &peso);\n",
        "\n",
        "    printf(\"Digite a altura em metros: \");\n",
        "    scanf(\"%f\", &altura);\n",
        "\n",
        "    imc = peso / (altura*altura);\n",
        "\n",
        "    // Usa estruturas if/else if para classificar o IMC.\n",
        "    printf(\"O seu IMC e: %.2f\\n\", imc);\n",
        "\n",
        "    if (imc < 18.5) {\n",
        "        printf(\"Classificacao: Abaixo do peso\\n\"); // Abaixo de 18.5\n",
        "    } else if (imc >= 18.5 && imc <= 24.9) {\n",
        "        printf(\"Classificacao: Peso normal\\n\"); // Entre 18.5 e 24.9\n",
        "    } else if (imc >= 25.0 && imc <= 29.9) {\n",
        "        printf(\"Classificacao: Sobrepeso\\n\"); // Entre 25.0 e 29.9\n",
        "    } else { // O problema define essa categoria como \"30.0 ou mais\"\n",
        "        printf(\"Classificacao: Obesidade\\n\");\n",
        "    }\n",
        "\n",
        "    return 0;\n",
        "}"
      ],
      "execution_count": 17,
      "outputs": [
        {
          "output_type": "stream",
          "name": "stdout",
          "text": [
            "Overwriting imc.c\n"
          ]
        }
      ]
    },
    {
      "cell_type": "code",
      "source": [
        "!gcc imc.c -o imc -lm\n",
        "!./imc"
      ],
      "metadata": {
        "colab": {
          "base_uri": "https://localhost:8080/"
        },
        "id": "8wgFUvr-_ENA",
        "outputId": "5596945a-198b-4b1a-df5d-be46f4981c0d"
      },
      "execution_count": 18,
      "outputs": [
        {
          "output_type": "stream",
          "name": "stdout",
          "text": [
            "Digite o peso em kg: 67\n",
            "Digite a altura em metros: 1.65\n",
            "O seu IMC e: 24.61\n",
            "Classificacao: Peso normal\n"
          ]
        }
      ]
    }
  ]
}